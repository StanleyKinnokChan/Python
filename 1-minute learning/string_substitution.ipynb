{
 "cells": [
  {
   "cell_type": "code",
   "execution_count": 8,
   "metadata": {},
   "outputs": [
    {
     "name": "stdout",
     "output_type": "stream",
     "text": [
      "string 1, 2, 3\n",
      "string 1, 2, 3\n",
      "string 1 ,2, 3\n"
     ]
    }
   ],
   "source": [
    "a,b,c = 1,2,3\n",
    "\n",
    "# %s operator\n",
    "string_1 = \"string %s, %s, %s\" % (a,b,c)\n",
    "\n",
    "# f-string\n",
    "string_2 = f\"string {a}, {b}, {c}\"\n",
    "\n",
    "#tradiion\n",
    "string_3 = \"string {} ,{}, {}\".format(a,b,c)\n",
    "print(string_1)\n",
    "print(string_2)\n",
    "print(string_3)"
   ]
  }
 ],
 "metadata": {
  "kernelspec": {
   "display_name": "Python 3",
   "language": "python",
   "name": "python3"
  },
  "language_info": {
   "codemirror_mode": {
    "name": "ipython",
    "version": 3
   },
   "file_extension": ".py",
   "mimetype": "text/x-python",
   "name": "python",
   "nbconvert_exporter": "python",
   "pygments_lexer": "ipython3",
   "version": "3.8.0"
  }
 },
 "nbformat": 4,
 "nbformat_minor": 2
}

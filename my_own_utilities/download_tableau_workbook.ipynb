{
 "cells": [
  {
   "cell_type": "code",
   "execution_count": 1,
   "metadata": {},
   "outputs": [
    {
     "name": "stdout",
     "output_type": "stream",
     "text": [
      "\n",
      "There are 2486 workbooks on \"DataSchool\" Tableau Server site.\n",
      "start downloadeding.....39ac9100-e823-4983-9dc0-5764d5f71b81\n",
      "\n",
      "Downloaded the file to c:\\Users\\StanleyChan\\SynologyDrive\\Work Backup\\my document\\python\\my_own_utilities\\Stanley27sservertesting.twbx.\n"
     ]
    }
   ],
   "source": [
    "import tableauserverclient as TSC\n",
    "import pandas as pd\n",
    "from io import StringIO\n",
    "\n",
    "class Tableau_Server(object):\n",
    "    \n",
    "    \"\"\"docstring for ClassName\"\"\"\n",
    "    def __init__(self,username, password,site_id,url, https = False):\n",
    "        super().__init__() # http://stackoverflow.com/questions/576169/understanding-python-super-with-init-methods\n",
    "\n",
    "        # authorize \n",
    "        tableau_auth = TSC.TableauAuth(username, password, site_id)\n",
    "        server = TSC.Server(url)\n",
    "        server.add_http_options({'verify': https}) # if not https server skip warnings\n",
    "        server.auth.sign_in(tableau_auth)\n",
    "        server.use_highest_version() # make sure to use the same api version as server\n",
    "        server.server_info.get()\n",
    "        \n",
    "        self.server = server\n",
    "        \n",
    "        # get all workbooks in site\n",
    "        self.all_books, pagination_item = self.server.workbooks.get()\n",
    "        self.all_books_names = [wb.name for wb in self.all_books]\n",
    "        print('\\nThere are {} workbooks on \"{}\" Tableau Server site.'.format(pagination_item.total_available,site_id))\n",
    "\n",
    "\n",
    "    def download_wb(self,wb_name):\n",
    "        # downlaod workbook given workbook name\n",
    "        # self.check_wb_name(wb_name)\n",
    "        # wb = [w for w in self.all_books if w.name == wb_name][0]\n",
    "        # \n",
    "\n",
    "        all_workbooks = list(TSC.Pager(self.server.workbooks))\n",
    "        workbook_name = \"Stanley's server testing\"\n",
    "        workbook = None\n",
    "        for wb in all_workbooks:\n",
    "            if wb.name == workbook_name:\n",
    "                workbook = wb\n",
    "                print(f\"start downloadeding.....{wb.id}\")\n",
    "                file_path = self.server.workbooks.download(wb.id, filepath=None)\n",
    "                print(\"\\nDownloaded the file to {0}.\".format(file_path))\n",
    "                break\n",
    "\n",
    "def main():\n",
    "    username = 'stanley.chan'\n",
    "    password = 'Ak179324865!'\n",
    "    site_id = 'DataSchool'\n",
    "    url = 'https://tableauserver.theinformationlab.co.uk/'\n",
    "\n",
    "    ts = Tableau_Server(username,password,site_id,url)\n",
    "    \n",
    "    # download a workbook\n",
    "    ts.download_wb(\"Stanley's server testing\")\n",
    "    \n",
    "    \n",
    "if __name__ == '__main__':\n",
    "    main()"
   ]
  }
 ],
 "metadata": {
  "kernelspec": {
   "display_name": "Python 3",
   "language": "python",
   "name": "python3"
  },
  "language_info": {
   "codemirror_mode": {
    "name": "ipython",
    "version": 3
   },
   "file_extension": ".py",
   "mimetype": "text/x-python",
   "name": "python",
   "nbconvert_exporter": "python",
   "pygments_lexer": "ipython3",
   "version": "3.8.0"
  }
 },
 "nbformat": 4,
 "nbformat_minor": 2
}

{
 "cells": [
  {
   "cell_type": "code",
   "execution_count": 1,
   "metadata": {},
   "outputs": [],
   "source": [
    "import pandas as pd\n",
    "\n",
    "df = pd.read_csv(r\"C:\\Users\\StanleyChan\\Downloads\\jack_test.csv\")\n",
    "\n"
   ]
  },
  {
   "cell_type": "code",
   "execution_count": 2,
   "metadata": {},
   "outputs": [
    {
     "data": {
      "text/html": [
       "<div>\n",
       "<style scoped>\n",
       "    .dataframe tbody tr th:only-of-type {\n",
       "        vertical-align: middle;\n",
       "    }\n",
       "\n",
       "    .dataframe tbody tr th {\n",
       "        vertical-align: top;\n",
       "    }\n",
       "\n",
       "    .dataframe thead th {\n",
       "        text-align: right;\n",
       "    }\n",
       "</style>\n",
       "<table border=\"1\" class=\"dataframe\">\n",
       "  <thead>\n",
       "    <tr style=\"text-align: right;\">\n",
       "      <th></th>\n",
       "      <th>type</th>\n",
       "      <th>working_hrs</th>\n",
       "      <th>contract_hrs</th>\n",
       "      <th>emp_id</th>\n",
       "      <th>job_id</th>\n",
       "    </tr>\n",
       "  </thead>\n",
       "  <tbody>\n",
       "    <tr>\n",
       "      <th>0</th>\n",
       "      <td>contractor</td>\n",
       "      <td>1</td>\n",
       "      <td>NaN</td>\n",
       "      <td>c</td>\n",
       "      <td>1</td>\n",
       "    </tr>\n",
       "    <tr>\n",
       "      <th>1</th>\n",
       "      <td>contractor</td>\n",
       "      <td>10</td>\n",
       "      <td>NaN</td>\n",
       "      <td>c</td>\n",
       "      <td>2</td>\n",
       "    </tr>\n",
       "    <tr>\n",
       "      <th>2</th>\n",
       "      <td>contractor</td>\n",
       "      <td>111</td>\n",
       "      <td>NaN</td>\n",
       "      <td>d</td>\n",
       "      <td>3</td>\n",
       "    </tr>\n",
       "    <tr>\n",
       "      <th>3</th>\n",
       "      <td>employee</td>\n",
       "      <td>5</td>\n",
       "      <td>35.0</td>\n",
       "      <td>a</td>\n",
       "      <td>4</td>\n",
       "    </tr>\n",
       "    <tr>\n",
       "      <th>4</th>\n",
       "      <td>employee</td>\n",
       "      <td>10</td>\n",
       "      <td>35.0</td>\n",
       "      <td>a</td>\n",
       "      <td>5</td>\n",
       "    </tr>\n",
       "    <tr>\n",
       "      <th>5</th>\n",
       "      <td>employee</td>\n",
       "      <td>25</td>\n",
       "      <td>35.0</td>\n",
       "      <td>b</td>\n",
       "      <td>6</td>\n",
       "    </tr>\n",
       "  </tbody>\n",
       "</table>\n",
       "</div>"
      ],
      "text/plain": [
       "         type  working_hrs  contract_hrs emp_id  job_id\n",
       "0  contractor            1           NaN      c       1\n",
       "1  contractor           10           NaN      c       2\n",
       "2  contractor          111           NaN      d       3\n",
       "3    employee            5          35.0      a       4\n",
       "4    employee           10          35.0      a       5\n",
       "5    employee           25          35.0      b       6"
      ]
     },
     "execution_count": 2,
     "metadata": {},
     "output_type": "execute_result"
    }
   ],
   "source": [
    "df"
   ]
  },
  {
   "cell_type": "code",
   "execution_count": 14,
   "metadata": {},
   "outputs": [
    {
     "name": "stdout",
     "output_type": "stream",
     "text": [
      "dict_keys(['type', 'working_hrs', 'contract_hrs', 'emp_id', 'job_id'])\n"
     ]
    }
   ],
   "source": [
    "df_dict = df.to_dict()\n",
    "df_dict.keys\n",
    "print(df_dict.keys())"
   ]
  },
  {
   "cell_type": "code",
   "execution_count": 11,
   "metadata": {},
   "outputs": [
    {
     "name": "stdout",
     "output_type": "stream",
     "text": [
      "type\n",
      "{0: 'contractor', 1: 'contractor', 2: 'contractor', 3: 'employee', 4: 'employee', 5: 'employee'}\n",
      "select type from table_test\n",
      "working_hrs\n",
      "{0: 1, 1: 10, 2: 111, 3: 5, 4: 10, 5: 25}\n",
      "select working_hrs from table_test\n",
      "contract_hrs\n",
      "{0: nan, 1: nan, 2: nan, 3: 35.0, 4: 35.0, 5: 35.0}\n",
      "select contract_hrs from table_test\n",
      "emp_id\n",
      "{0: 'c', 1: 'c', 2: 'd', 3: 'a', 4: 'a', 5: 'b'}\n",
      "select emp_id from table_test\n",
      "job_id\n",
      "{0: 1, 1: 2, 2: 3, 3: 4, 4: 5, 5: 6}\n",
      "select job_id from table_test\n"
     ]
    }
   ],
   "source": [
    "for k,v in df_dict.items():\n",
    "    print(k)\n",
    "    print(v)\n",
    "    query = f\"select {k} from table_test\"\n",
    "    print(query)"
   ]
  }
 ],
 "metadata": {
  "kernelspec": {
   "display_name": "Python 3",
   "language": "python",
   "name": "python3"
  },
  "language_info": {
   "codemirror_mode": {
    "name": "ipython",
    "version": 3
   },
   "file_extension": ".py",
   "mimetype": "text/x-python",
   "name": "python",
   "nbconvert_exporter": "python",
   "pygments_lexer": "ipython3",
   "version": "3.8.0"
  }
 },
 "nbformat": 4,
 "nbformat_minor": 2
}

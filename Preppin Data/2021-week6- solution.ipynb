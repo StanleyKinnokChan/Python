{
 "cells": [
  {
   "cell_type": "code",
   "execution_count": 24,
   "metadata": {},
   "outputs": [],
   "source": [
    "#https://preppindata.blogspot.com/2021/02/2021-week-6-comparing-prize-money-for.html\n",
    "\n",
    "import pandas as pd"
   ]
  },
  {
   "cell_type": "markdown",
   "metadata": {},
   "source": [
    "### Input the data"
   ]
  },
  {
   "cell_type": "code",
   "execution_count": 25,
   "metadata": {},
   "outputs": [
    {
     "data": {
      "text/html": [
       "<div>\n",
       "<style scoped>\n",
       "    .dataframe tbody tr th:only-of-type {\n",
       "        vertical-align: middle;\n",
       "    }\n",
       "\n",
       "    .dataframe tbody tr th {\n",
       "        vertical-align: top;\n",
       "    }\n",
       "\n",
       "    .dataframe thead th {\n",
       "        text-align: right;\n",
       "    }\n",
       "</style>\n",
       "<table border=\"1\" class=\"dataframe\">\n",
       "  <thead>\n",
       "    <tr style=\"text-align: right;\">\n",
       "      <th></th>\n",
       "      <th>PLAYER NAME</th>\n",
       "      <th>MONEY</th>\n",
       "      <th>EVENTS</th>\n",
       "      <th>TOUR</th>\n",
       "    </tr>\n",
       "  </thead>\n",
       "  <tbody>\n",
       "    <tr>\n",
       "      <th>0</th>\n",
       "      <td>Brooks Koepka</td>\n",
       "      <td>9684006</td>\n",
       "      <td>21</td>\n",
       "      <td>PGA</td>\n",
       "    </tr>\n",
       "    <tr>\n",
       "      <th>1</th>\n",
       "      <td>Rory McIlroy</td>\n",
       "      <td>7785286</td>\n",
       "      <td>19</td>\n",
       "      <td>PGA</td>\n",
       "    </tr>\n",
       "    <tr>\n",
       "      <th>2</th>\n",
       "      <td>Matt Kuchar</td>\n",
       "      <td>6294690</td>\n",
       "      <td>22</td>\n",
       "      <td>PGA</td>\n",
       "    </tr>\n",
       "    <tr>\n",
       "      <th>3</th>\n",
       "      <td>Patrick Cantlay</td>\n",
       "      <td>6121488</td>\n",
       "      <td>21</td>\n",
       "      <td>PGA</td>\n",
       "    </tr>\n",
       "    <tr>\n",
       "      <th>4</th>\n",
       "      <td>Gary Woodland</td>\n",
       "      <td>5690965</td>\n",
       "      <td>24</td>\n",
       "      <td>PGA</td>\n",
       "    </tr>\n",
       "    <tr>\n",
       "      <th>...</th>\n",
       "      <td>...</td>\n",
       "      <td>...</td>\n",
       "      <td>...</td>\n",
       "      <td>...</td>\n",
       "    </tr>\n",
       "    <tr>\n",
       "      <th>195</th>\n",
       "      <td>Lindy Duncan</td>\n",
       "      <td>130654</td>\n",
       "      <td>25</td>\n",
       "      <td>LPGA</td>\n",
       "    </tr>\n",
       "    <tr>\n",
       "      <th>196</th>\n",
       "      <td>Daniela Darquea</td>\n",
       "      <td>129608</td>\n",
       "      <td>21</td>\n",
       "      <td>LPGA</td>\n",
       "    </tr>\n",
       "    <tr>\n",
       "      <th>197</th>\n",
       "      <td>Maria Fassi</td>\n",
       "      <td>129164</td>\n",
       "      <td>11</td>\n",
       "      <td>LPGA</td>\n",
       "    </tr>\n",
       "    <tr>\n",
       "      <th>198</th>\n",
       "      <td>Stephanie Meadow</td>\n",
       "      <td>127796</td>\n",
       "      <td>21</td>\n",
       "      <td>LPGA</td>\n",
       "    </tr>\n",
       "    <tr>\n",
       "      <th>199</th>\n",
       "      <td>Mariah Stackhouse</td>\n",
       "      <td>127365</td>\n",
       "      <td>20</td>\n",
       "      <td>LPGA</td>\n",
       "    </tr>\n",
       "  </tbody>\n",
       "</table>\n",
       "<p>200 rows × 4 columns</p>\n",
       "</div>"
      ],
      "text/plain": [
       "            PLAYER NAME    MONEY  EVENTS  TOUR\n",
       "0         Brooks Koepka  9684006      21   PGA\n",
       "1          Rory McIlroy  7785286      19   PGA\n",
       "2           Matt Kuchar  6294690      22   PGA\n",
       "3       Patrick Cantlay  6121488      21   PGA\n",
       "4         Gary Woodland  5690965      24   PGA\n",
       "..                  ...      ...     ...   ...\n",
       "195       Lindy Duncan    130654      25  LPGA\n",
       "196    Daniela Darquea    129608      21  LPGA\n",
       "197        Maria Fassi    129164      11  LPGA\n",
       "198   Stephanie Meadow    127796      21  LPGA\n",
       "199  Mariah Stackhouse    127365      20  LPGA\n",
       "\n",
       "[200 rows x 4 columns]"
      ]
     },
     "execution_count": 25,
     "metadata": {},
     "output_type": "execute_result"
    }
   ],
   "source": [
    "df = pd.read_excel(r'data/PD 2021 Wk 6 Input.xlsx', sheet_name = 'OfficialMoney')\n",
    "\n",
    "df"
   ]
  },
  {
   "cell_type": "markdown",
   "metadata": {},
   "source": [
    "### Answer these questions:\n"
   ]
  },
  {
   "cell_type": "code",
   "execution_count": 26,
   "metadata": {},
   "outputs": [
    {
     "data": {
      "text/html": [
       "<div>\n",
       "<style scoped>\n",
       "    .dataframe tbody tr th:only-of-type {\n",
       "        vertical-align: middle;\n",
       "    }\n",
       "\n",
       "    .dataframe tbody tr th {\n",
       "        vertical-align: top;\n",
       "    }\n",
       "\n",
       "    .dataframe thead th {\n",
       "        text-align: right;\n",
       "    }\n",
       "</style>\n",
       "<table border=\"1\" class=\"dataframe\">\n",
       "  <thead>\n",
       "    <tr style=\"text-align: right;\">\n",
       "      <th></th>\n",
       "      <th>TOUR</th>\n",
       "      <th>total_prize_money</th>\n",
       "    </tr>\n",
       "  </thead>\n",
       "  <tbody>\n",
       "    <tr>\n",
       "      <th>0</th>\n",
       "      <td>LPGA</td>\n",
       "      <td>58410411</td>\n",
       "    </tr>\n",
       "    <tr>\n",
       "      <th>1</th>\n",
       "      <td>PGA</td>\n",
       "      <td>256726356</td>\n",
       "    </tr>\n",
       "  </tbody>\n",
       "</table>\n",
       "</div>"
      ],
      "text/plain": [
       "   TOUR  total_prize_money\n",
       "0  LPGA           58410411\n",
       "1   PGA          256726356"
      ]
     },
     "execution_count": 26,
     "metadata": {},
     "output_type": "execute_result"
    }
   ],
   "source": [
    "# Q1: What's the Total Prize Money earned by players for each tour?\n",
    "df_Q1 = df.groupby(['TOUR']).agg(total_prize_money = ('MONEY','sum')).reset_index()\n",
    "df_Q1"
   ]
  },
  {
   "cell_type": "code",
   "execution_count": 27,
   "metadata": {},
   "outputs": [
    {
     "data": {
      "text/html": [
       "<div>\n",
       "<style scoped>\n",
       "    .dataframe tbody tr th:only-of-type {\n",
       "        vertical-align: middle;\n",
       "    }\n",
       "\n",
       "    .dataframe tbody tr th {\n",
       "        vertical-align: top;\n",
       "    }\n",
       "\n",
       "    .dataframe thead th {\n",
       "        text-align: right;\n",
       "    }\n",
       "</style>\n",
       "<table border=\"1\" class=\"dataframe\">\n",
       "  <thead>\n",
       "    <tr style=\"text-align: right;\">\n",
       "      <th></th>\n",
       "      <th>TOUR</th>\n",
       "      <th>number_of_players</th>\n",
       "    </tr>\n",
       "  </thead>\n",
       "  <tbody>\n",
       "    <tr>\n",
       "      <th>0</th>\n",
       "      <td>LPGA</td>\n",
       "      <td>100</td>\n",
       "    </tr>\n",
       "    <tr>\n",
       "      <th>1</th>\n",
       "      <td>PGA</td>\n",
       "      <td>100</td>\n",
       "    </tr>\n",
       "  </tbody>\n",
       "</table>\n",
       "</div>"
      ],
      "text/plain": [
       "   TOUR  number_of_players\n",
       "0  LPGA                100\n",
       "1   PGA                100"
      ]
     },
     "execution_count": 27,
     "metadata": {},
     "output_type": "execute_result"
    }
   ],
   "source": [
    "# Q2. How many players are in this dataset for each tour?\n",
    "df_Q2 = df.groupby(['TOUR']).agg(number_of_players = ('PLAYER NAME','count')).reset_index()\n",
    "df_Q2"
   ]
  },
  {
   "cell_type": "code",
   "execution_count": 28,
   "metadata": {},
   "outputs": [
    {
     "data": {
      "text/html": [
       "<div>\n",
       "<style scoped>\n",
       "    .dataframe tbody tr th:only-of-type {\n",
       "        vertical-align: middle;\n",
       "    }\n",
       "\n",
       "    .dataframe tbody tr th {\n",
       "        vertical-align: top;\n",
       "    }\n",
       "\n",
       "    .dataframe thead th {\n",
       "        text-align: right;\n",
       "    }\n",
       "</style>\n",
       "<table border=\"1\" class=\"dataframe\">\n",
       "  <thead>\n",
       "    <tr style=\"text-align: right;\">\n",
       "      <th></th>\n",
       "      <th>TOUR</th>\n",
       "      <th>number_of_events</th>\n",
       "    </tr>\n",
       "  </thead>\n",
       "  <tbody>\n",
       "    <tr>\n",
       "      <th>0</th>\n",
       "      <td>LPGA</td>\n",
       "      <td>2266</td>\n",
       "    </tr>\n",
       "    <tr>\n",
       "      <th>1</th>\n",
       "      <td>PGA</td>\n",
       "      <td>2282</td>\n",
       "    </tr>\n",
       "  </tbody>\n",
       "</table>\n",
       "</div>"
      ],
      "text/plain": [
       "   TOUR  number_of_events\n",
       "0  LPGA              2266\n",
       "1   PGA              2282"
      ]
     },
     "execution_count": 28,
     "metadata": {},
     "output_type": "execute_result"
    }
   ],
   "source": [
    "# Q3. How many events in total did players participate in for each tour?\n",
    "df_Q3 = df.groupby(['TOUR']).agg(number_of_events = ('EVENTS','sum')).reset_index()\n",
    "df_Q3\n"
   ]
  },
  {
   "cell_type": "code",
   "execution_count": 29,
   "metadata": {},
   "outputs": [
    {
     "data": {
      "text/html": [
       "<div>\n",
       "<style scoped>\n",
       "    .dataframe tbody tr th:only-of-type {\n",
       "        vertical-align: middle;\n",
       "    }\n",
       "\n",
       "    .dataframe tbody tr th {\n",
       "        vertical-align: top;\n",
       "    }\n",
       "\n",
       "    .dataframe thead th {\n",
       "        text-align: right;\n",
       "    }\n",
       "</style>\n",
       "<table border=\"1\" class=\"dataframe\">\n",
       "  <thead>\n",
       "    <tr style=\"text-align: right;\">\n",
       "      <th></th>\n",
       "      <th>TOUR</th>\n",
       "      <th>avg_win_per_event</th>\n",
       "    </tr>\n",
       "  </thead>\n",
       "  <tbody>\n",
       "    <tr>\n",
       "      <th>0</th>\n",
       "      <td>LPGA</td>\n",
       "      <td>25525.301120</td>\n",
       "    </tr>\n",
       "    <tr>\n",
       "      <th>1</th>\n",
       "      <td>PGA</td>\n",
       "      <td>120281.569273</td>\n",
       "    </tr>\n",
       "  </tbody>\n",
       "</table>\n",
       "</div>"
      ],
      "text/plain": [
       "   TOUR  avg_win_per_event\n",
       "0  LPGA       25525.301120\n",
       "1   PGA      120281.569273"
      ]
     },
     "execution_count": 29,
     "metadata": {},
     "output_type": "execute_result"
    }
   ],
   "source": [
    "# Q4. How much do players win per event? What's the average of this for each tour? \n",
    "df['WIN PER EVENT'] = df['MONEY']/df['EVENTS']\n",
    "df_Q4 = df.groupby(['TOUR']).agg(avg_win_per_event = ('WIN PER EVENT','mean')).reset_index()\n",
    "df_Q4"
   ]
  },
  {
   "cell_type": "code",
   "execution_count": 30,
   "metadata": {},
   "outputs": [
    {
     "data": {
      "text/html": [
       "<div>\n",
       "<style scoped>\n",
       "    .dataframe tbody tr th:only-of-type {\n",
       "        vertical-align: middle;\n",
       "    }\n",
       "\n",
       "    .dataframe tbody tr th {\n",
       "        vertical-align: top;\n",
       "    }\n",
       "\n",
       "    .dataframe thead th {\n",
       "        text-align: right;\n",
       "    }\n",
       "</style>\n",
       "<table border=\"1\" class=\"dataframe\">\n",
       "  <thead>\n",
       "    <tr style=\"text-align: right;\">\n",
       "      <th></th>\n",
       "      <th>TOUR</th>\n",
       "      <th>avg_difference</th>\n",
       "    </tr>\n",
       "  </thead>\n",
       "  <tbody>\n",
       "    <tr>\n",
       "      <th>0</th>\n",
       "      <td>LPGA</td>\n",
       "      <td>96.13</td>\n",
       "    </tr>\n",
       "    <tr>\n",
       "      <th>1</th>\n",
       "      <td>PGA</td>\n",
       "      <td>3.87</td>\n",
       "    </tr>\n",
       "  </tbody>\n",
       "</table>\n",
       "</div>"
      ],
      "text/plain": [
       "   TOUR  avg_difference\n",
       "0  LPGA           96.13\n",
       "1   PGA            3.87"
      ]
     },
     "execution_count": 30,
     "metadata": {},
     "output_type": "execute_result"
    }
   ],
   "source": [
    "# Q5. How do players rank by prize money for each tour? What about overall? \n",
    "\n",
    "\n",
    "df['rank_by_tour'] = df.groupby('TOUR')['MONEY'].rank(ascending=False)\n",
    "df['rank_overalll'] = df['MONEY'].rank(ascending=False)\n",
    "\n",
    "# What is the average difference between where they are ranked within their tour compared to the overall rankings where both tours are combined?\n",
    "df['difference'] = df['rank_overalll'] - df['rank_by_tour']\n",
    "df_Q5 = df.groupby(['TOUR']).agg(avg_difference = ('difference','mean')).reset_index()\n",
    "df_Q5"
   ]
  },
  {
   "cell_type": "markdown",
   "metadata": {},
   "source": [
    "### Combine the answers to these questions into one dataset"
   ]
  },
  {
   "cell_type": "code",
   "execution_count": 40,
   "metadata": {},
   "outputs": [
    {
     "data": {
      "text/html": [
       "<div>\n",
       "<style scoped>\n",
       "    .dataframe tbody tr th:only-of-type {\n",
       "        vertical-align: middle;\n",
       "    }\n",
       "\n",
       "    .dataframe tbody tr th {\n",
       "        vertical-align: top;\n",
       "    }\n",
       "\n",
       "    .dataframe thead th {\n",
       "        text-align: right;\n",
       "    }\n",
       "</style>\n",
       "<table border=\"1\" class=\"dataframe\">\n",
       "  <thead>\n",
       "    <tr style=\"text-align: right;\">\n",
       "      <th></th>\n",
       "      <th>TOUR</th>\n",
       "      <th>total_prize_money</th>\n",
       "      <th>number_of_players</th>\n",
       "      <th>number_of_events</th>\n",
       "      <th>avg_win_per_event</th>\n",
       "      <th>avg_difference</th>\n",
       "    </tr>\n",
       "  </thead>\n",
       "  <tbody>\n",
       "    <tr>\n",
       "      <th>0</th>\n",
       "      <td>LPGA</td>\n",
       "      <td>58410411</td>\n",
       "      <td>100</td>\n",
       "      <td>2266</td>\n",
       "      <td>25525.301120</td>\n",
       "      <td>96.13</td>\n",
       "    </tr>\n",
       "    <tr>\n",
       "      <th>1</th>\n",
       "      <td>PGA</td>\n",
       "      <td>256726356</td>\n",
       "      <td>100</td>\n",
       "      <td>2282</td>\n",
       "      <td>120281.569273</td>\n",
       "      <td>3.87</td>\n",
       "    </tr>\n",
       "  </tbody>\n",
       "</table>\n",
       "</div>"
      ],
      "text/plain": [
       "   TOUR  total_prize_money  number_of_players  number_of_events  \\\n",
       "0  LPGA           58410411                100              2266   \n",
       "1   PGA          256726356                100              2282   \n",
       "\n",
       "   avg_win_per_event  avg_difference  \n",
       "0       25525.301120           96.13  \n",
       "1      120281.569273            3.87  "
      ]
     },
     "execution_count": 40,
     "metadata": {},
     "output_type": "execute_result"
    }
   ],
   "source": [
    "df_Qcombined = df_Q1\n",
    "Qs = [df_Q2,df_Q3, df_Q4,df_Q5]\n",
    "\n",
    "for df in Qs:\n",
    "    df_Qcombined = df_Qcombined.merge(df, on='TOUR', how='inner')\n",
    "\n",
    "df_Qcombined"
   ]
  },
  {
   "cell_type": "markdown",
   "metadata": {},
   "source": [
    "### Pivot the data so that we have a column for each tour, with each row representing an answer to the above questions"
   ]
  },
  {
   "cell_type": "code",
   "execution_count": 55,
   "metadata": {},
   "outputs": [
    {
     "data": {
      "text/html": [
       "<div>\n",
       "<style scoped>\n",
       "    .dataframe tbody tr th:only-of-type {\n",
       "        vertical-align: middle;\n",
       "    }\n",
       "\n",
       "    .dataframe tbody tr th {\n",
       "        vertical-align: top;\n",
       "    }\n",
       "\n",
       "    .dataframe thead th {\n",
       "        text-align: right;\n",
       "    }\n",
       "</style>\n",
       "<table border=\"1\" class=\"dataframe\">\n",
       "  <thead>\n",
       "    <tr style=\"text-align: right;\">\n",
       "      <th>TOUR</th>\n",
       "      <th>Measures</th>\n",
       "      <th>LPGA</th>\n",
       "      <th>PGA</th>\n",
       "    </tr>\n",
       "  </thead>\n",
       "  <tbody>\n",
       "    <tr>\n",
       "      <th>0</th>\n",
       "      <td>avg_difference</td>\n",
       "      <td>96</td>\n",
       "      <td>4</td>\n",
       "    </tr>\n",
       "    <tr>\n",
       "      <th>1</th>\n",
       "      <td>avg_win_per_event</td>\n",
       "      <td>25525</td>\n",
       "      <td>120282</td>\n",
       "    </tr>\n",
       "    <tr>\n",
       "      <th>2</th>\n",
       "      <td>number_of_events</td>\n",
       "      <td>2266</td>\n",
       "      <td>2282</td>\n",
       "    </tr>\n",
       "    <tr>\n",
       "      <th>3</th>\n",
       "      <td>number_of_players</td>\n",
       "      <td>100</td>\n",
       "      <td>100</td>\n",
       "    </tr>\n",
       "    <tr>\n",
       "      <th>4</th>\n",
       "      <td>total_prize_money</td>\n",
       "      <td>58410411</td>\n",
       "      <td>256726356</td>\n",
       "    </tr>\n",
       "  </tbody>\n",
       "</table>\n",
       "</div>"
      ],
      "text/plain": [
       "TOUR           Measures     LPGA       PGA\n",
       "0        avg_difference       96         4\n",
       "1     avg_win_per_event    25525    120282\n",
       "2      number_of_events     2266      2282\n",
       "3     number_of_players      100       100\n",
       "4     total_prize_money 58410411 256726356"
      ]
     },
     "execution_count": 55,
     "metadata": {},
     "output_type": "execute_result"
    }
   ],
   "source": [
    "pd.options.display.float_format = '{:.0f}'.format\n",
    "\n",
    "df_melt = df_Qcombined.melt(id_vars=['TOUR'],\n",
    "                  var_name='Measures',\n",
    "                  value_name='Values')\n",
    "\n",
    "\n",
    "df_output = df_melt.pivot(index='Measures', columns='TOUR', values='Values').reset_index()\n",
    "df_output"
   ]
  },
  {
   "cell_type": "markdown",
   "metadata": {},
   "source": [
    "### Clean up the Measure field and create a new column showing the difference between the tours for each measure"
   ]
  },
  {
   "cell_type": "code",
   "execution_count": 59,
   "metadata": {},
   "outputs": [
    {
     "data": {
      "text/html": [
       "<div>\n",
       "<style scoped>\n",
       "    .dataframe tbody tr th:only-of-type {\n",
       "        vertical-align: middle;\n",
       "    }\n",
       "\n",
       "    .dataframe tbody tr th {\n",
       "        vertical-align: top;\n",
       "    }\n",
       "\n",
       "    .dataframe thead th {\n",
       "        text-align: right;\n",
       "    }\n",
       "</style>\n",
       "<table border=\"1\" class=\"dataframe\">\n",
       "  <thead>\n",
       "    <tr style=\"text-align: right;\">\n",
       "      <th>TOUR</th>\n",
       "      <th>Measures</th>\n",
       "      <th>PGA</th>\n",
       "      <th>LPGA</th>\n",
       "      <th>Difference between tours</th>\n",
       "    </tr>\n",
       "  </thead>\n",
       "  <tbody>\n",
       "    <tr>\n",
       "      <th>0</th>\n",
       "      <td>avg_difference</td>\n",
       "      <td>4</td>\n",
       "      <td>96</td>\n",
       "      <td>92</td>\n",
       "    </tr>\n",
       "    <tr>\n",
       "      <th>1</th>\n",
       "      <td>avg_win_per_event</td>\n",
       "      <td>120282</td>\n",
       "      <td>25525</td>\n",
       "      <td>-94756</td>\n",
       "    </tr>\n",
       "    <tr>\n",
       "      <th>2</th>\n",
       "      <td>number_of_events</td>\n",
       "      <td>2282</td>\n",
       "      <td>2266</td>\n",
       "      <td>-16</td>\n",
       "    </tr>\n",
       "    <tr>\n",
       "      <th>3</th>\n",
       "      <td>number_of_players</td>\n",
       "      <td>100</td>\n",
       "      <td>100</td>\n",
       "      <td>0</td>\n",
       "    </tr>\n",
       "    <tr>\n",
       "      <th>4</th>\n",
       "      <td>total_prize_money</td>\n",
       "      <td>256726356</td>\n",
       "      <td>58410411</td>\n",
       "      <td>-198315945</td>\n",
       "    </tr>\n",
       "  </tbody>\n",
       "</table>\n",
       "</div>"
      ],
      "text/plain": [
       "TOUR           Measures       PGA     LPGA  Difference between tours\n",
       "0        avg_difference         4       96                        92\n",
       "1     avg_win_per_event    120282    25525                    -94756\n",
       "2      number_of_events      2282     2266                       -16\n",
       "3     number_of_players       100      100                         0\n",
       "4     total_prize_money 256726356 58410411                -198315945"
      ]
     },
     "execution_count": 59,
     "metadata": {},
     "output_type": "execute_result"
    }
   ],
   "source": [
    "df_output = df_output[['Measures','PGA','LPGA']]\n",
    "df_output['Difference between tours'] =  df_output['LPGA'] - df_output['PGA']\n",
    "df_output"
   ]
  },
  {
   "cell_type": "markdown",
   "metadata": {},
   "source": [
    "### Output the data"
   ]
  },
  {
   "cell_type": "code",
   "execution_count": 60,
   "metadata": {},
   "outputs": [],
   "source": [
    "df_output.to_csv(r'output/2021-week6-output.csv')"
   ]
  }
 ],
 "metadata": {
  "kernelspec": {
   "display_name": "Python 3",
   "language": "python",
   "name": "python3"
  },
  "language_info": {
   "codemirror_mode": {
    "name": "ipython",
    "version": 3
   },
   "file_extension": ".py",
   "mimetype": "text/x-python",
   "name": "python",
   "nbconvert_exporter": "python",
   "pygments_lexer": "ipython3",
   "version": "3.8.0"
  }
 },
 "nbformat": 4,
 "nbformat_minor": 2
}

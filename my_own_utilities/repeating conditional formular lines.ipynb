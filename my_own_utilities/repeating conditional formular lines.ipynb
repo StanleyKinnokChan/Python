{
 "cells": [
  {
   "cell_type": "code",
   "execution_count": 1,
   "metadata": {},
   "outputs": [
    {
     "name": "stdout",
     "output_type": "stream",
     "text": [
      "if index() = 1 then max([Audience Own Site % Q1 this GAM])\n",
      "elseif index() = 2 then max([Audience Own Site % Q2 this GAM])\n",
      "elseif index() = 3 then max([Audience Own Site % Q3 this GAM])\n",
      "elseif index() = 4 then max([Audience Own Site % Q4 this GAM])\n",
      "elseif index() = 5 then max([Audience Own Site % Q5 this GAM])\n",
      "elseif index() = 6 then max([Audience Own Site % Q6 this GAM])\n",
      "elseif index() = 7 then max([Audience Own Site % Q7 this GAM])\n",
      "elseif index() = 8 then max([Audience Own Site % Q8 this GAM])\n",
      "elseif index() = 9 then max([Audience Own Site % Q9 this GAM])\n",
      "end\n"
     ]
    }
   ],
   "source": [
    "def formaular(x):\n",
    "    return f\"index() = {x} then max([Audience Own Site % Q{x} this GAM])\"\n",
    "\n",
    "for i in range(1, 10):\n",
    "    if i == 1:\n",
    "        result = 'if ' + formaular(i)\n",
    "    else:\n",
    "        result = 'elseif ' + formaular(i)\n",
    "    print(result)\n",
    "print('end')\n"
   ]
  }
 ],
 "metadata": {
  "kernelspec": {
   "display_name": "Python 3",
   "language": "python",
   "name": "python3"
  },
  "language_info": {
   "codemirror_mode": {
    "name": "ipython",
    "version": 3
   },
   "file_extension": ".py",
   "mimetype": "text/x-python",
   "name": "python",
   "nbconvert_exporter": "python",
   "pygments_lexer": "ipython3",
   "version": "3.8.0"
  }
 },
 "nbformat": 4,
 "nbformat_minor": 2
}

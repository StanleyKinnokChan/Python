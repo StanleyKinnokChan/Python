{
 "cells": [
  {
   "cell_type": "code",
   "execution_count": 59,
   "metadata": {},
   "outputs": [
    {
     "data": {
      "text/plain": [
       "True"
      ]
     },
     "execution_count": 59,
     "metadata": {},
     "output_type": "execute_result"
    }
   ],
   "source": [
    "import pyodbc\n",
    "import pandas as pd\n",
    "import os\n",
    "from dotenv import load_dotenv\n"
   ]
  },
  {
   "cell_type": "code",
   "execution_count": 67,
   "metadata": {},
   "outputs": [
    {
     "name": "stdout",
     "output_type": "stream",
     "text": [
      "til1\n"
     ]
    }
   ],
   "source": [
    "load_dotenv()\n",
    "\n",
    "uid = os.getenv('uid')\n",
    "pwd = os.getenv('pwd')\n",
    "driver = os.getenv('driver')\n",
    "server = os.getenv('server')\n",
    "database = os.getenv('database')\n",
    "\n",
    "print(uid)"
   ]
  },
  {
   "cell_type": "code",
   "execution_count": 69,
   "metadata": {},
   "outputs": [
    {
     "name": "stdout",
     "output_type": "stream",
     "text": [
      "[('SalesTaxRate',), ('PersonCreditCard',), ('PersonPhone',), ('SalesTerritory',), ('PhoneNumberType',), ('Product',), ('SalesTerritoryHistory',), ('ScrapReason',), ('Shift',), ('ProductCategory',), ('ShipMethod',), ('ProductCostHistory',), ('ProductDescription',), ('ShoppingCartItem',), ('ProductDocument',), ('DatabaseLog',), ('ProductInventory',), ('SpecialOffer',), ('ErrorLog',), ('ProductListPriceHistory',), ('Address',), ('SpecialOfferProduct',), ('ProductModel',), ('AddressType',), ('StateProvince',), ('ProductModelIllustration',), ('AWBuildVersion',), ('ProductModelProductDescriptionCulture',), ('BillOfMaterials',), ('Store',), ('ProductPhoto',), ('ProductProductPhoto',), ('TransactionHistory',), ('ProductReview',), ('BusinessEntity',), ('TransactionHistoryArchive',), ('ProductSubcategory',), ('BusinessEntityAddress',), ('ProductVendor',), ('BusinessEntityContact',), ('UnitMeasure',), ('Vendor',), ('ContactType',), ('CountryRegionCurrency',), ('CountryRegion',), ('WorkOrder',), ('PurchaseOrderDetail',), ('CreditCard',), ('Culture',), ('WorkOrderRouting',), ('Currency',), ('PurchaseOrderHeader',), ('CurrencyRate',), ('Customer',), ('Department',), ('Document',), ('SalesOrderDetail',), ('EmailAddress',), ('Employee',), ('OLE DB Destination',), ('SalesOrderHeader',), ('EmployeeDepartmentHistory',), ('EmployeePayHistory',), ('SalesOrderHeaderSalesReason',), ('SalesPerson',), ('Illustration',), ('JobCandidate',), ('Location',), ('Password',), ('SalesPersonQuotaHistory',), ('Person',), ('SalesReason',)]\n"
     ]
    }
   ],
   "source": [
    "src_conn = pyodbc.connect('DRIVER=' + driver + ';SERVER=' + server + ';DATABASE=' + database + ';UID=' + uid + ';PWD=' + pwd)\n",
    "src_cursor = src_conn.cursor()\n",
    "\n",
    "# execute query\n",
    "src_cursor.execute(\"\"\" select  t.name as table_name\n",
    "from sys.tables t \"\"\")\n",
    "src_tables = src_cursor.fetchall()\n",
    "\n",
    "print(src_tables)"
   ]
  },
  {
   "cell_type": "code",
   "execution_count": 34,
   "metadata": {},
   "outputs": [
    {
     "name": "stdout",
     "output_type": "stream",
     "text": [
      "Data extract error: Execution failed on sql 'select * FROM SalesTaxRate': ('42S02', \"[42S02] [Microsoft][ODBC Driver 18 for SQL Server][SQL Server]Invalid object name 'SalesTaxRate'. (208) (SQLExecDirectW)\")\n"
     ]
    },
    {
     "name": "stderr",
     "output_type": "stream",
     "text": [
      "C:\\Users\\StanleyChan\\AppData\\Local\\Temp\\ipykernel_31592\\3406484067.py:13: UserWarning: pandas only supports SQLAlchemy connectable (engine/connection) or database string URI or sqlite3 DBAPI2 connection. Other DBAPI2 objects are not tested. Please consider using SQLAlchemy.\n",
      "  df = pd.read_sql_query(f'select * FROM {tbl[0]}', src_conn)\n"
     ]
    }
   ],
   "source": [
    "def extract():\n",
    "    try:\n",
    "        src_conn = pyodbc.connect('DRIVER=' + driver + ';SERVER=' + server + ';DATABASE=' + database + ';UID=' + uid + ';PWD=' + pwd)\n",
    "        src_cursor = src_conn.cursor()\n",
    "\n",
    "        # execute query\n",
    "        src_cursor.execute(\"\"\" select  t.name as table_name\n",
    "        from sys.tables t \"\"\")\n",
    "        src_tables = src_cursor.fetchall()\n",
    "\n",
    "        for tbl in src_tables:\n",
    "            #query and load save data to dataframe\n",
    "            df = pd.read_sql_query(f'select * FROM {tbl[0]}', src_conn)\n",
    "            df\n",
    "            \n",
    "    except Exception as e:\n",
    "        print(\"Data extract error: \" + str(e))\n",
    "    finally:\n",
    "        src_conn.close()\n",
    "\n",
    "\n",
    "def load(df, tbl):\n",
    "    try:\n",
    "        rows_imported = 0\n",
    "        engine = create_engine(f'postgresql://{uid}:{pwd}@{server}:5432/AdventureWorks')\n",
    "        print(f'importing rows {rows_imported} to {rows_imported + len(df)}... for table {tbl}')\n",
    "        \n",
    "        # save df to postgres\n",
    "        df.to_sql(f'stg_{tbl}', engine, if_exists='replace', index=False)\n",
    "        rows_imported += len(df)\n",
    "        \n",
    "        # add elapsed time to final print out\n",
    "        print(\"Data imported successful\")\n",
    "        \n",
    "    except Exception as e:\n",
    "        print(\"Data load error: \" + str(e))"
   ]
  },
  {
   "cell_type": "code",
   "execution_count": 23,
   "metadata": {},
   "outputs": [
    {
     "name": "stderr",
     "output_type": "stream",
     "text": [
      "C:\\Users\\StanleyChan\\AppData\\Local\\Temp\\ipykernel_31592\\3960989346.py:1: UserWarning: pandas only supports SQLAlchemy connectable (engine/connection) or database string URI or sqlite3 DBAPI2 connection. Other DBAPI2 objects are not tested. Please consider using SQLAlchemy.\n",
      "  df = pd.read_sql_query(f'select * FROM Sales.{src_tables[1][0]}', src_conn)\n"
     ]
    },
    {
     "data": {
      "text/html": [
       "<div>\n",
       "<style scoped>\n",
       "    .dataframe tbody tr th:only-of-type {\n",
       "        vertical-align: middle;\n",
       "    }\n",
       "\n",
       "    .dataframe tbody tr th {\n",
       "        vertical-align: top;\n",
       "    }\n",
       "\n",
       "    .dataframe thead th {\n",
       "        text-align: right;\n",
       "    }\n",
       "</style>\n",
       "<table border=\"1\" class=\"dataframe\">\n",
       "  <thead>\n",
       "    <tr style=\"text-align: right;\">\n",
       "      <th></th>\n",
       "      <th>BusinessEntityID</th>\n",
       "      <th>CreditCardID</th>\n",
       "      <th>ModifiedDate</th>\n",
       "    </tr>\n",
       "  </thead>\n",
       "  <tbody>\n",
       "    <tr>\n",
       "      <th>0</th>\n",
       "      <td>293</td>\n",
       "      <td>17038</td>\n",
       "      <td>2013-07-31</td>\n",
       "    </tr>\n",
       "    <tr>\n",
       "      <th>1</th>\n",
       "      <td>295</td>\n",
       "      <td>15369</td>\n",
       "      <td>2011-08-01</td>\n",
       "    </tr>\n",
       "    <tr>\n",
       "      <th>2</th>\n",
       "      <td>297</td>\n",
       "      <td>8010</td>\n",
       "      <td>2011-08-01</td>\n",
       "    </tr>\n",
       "    <tr>\n",
       "      <th>3</th>\n",
       "      <td>299</td>\n",
       "      <td>5316</td>\n",
       "      <td>2013-07-31</td>\n",
       "    </tr>\n",
       "    <tr>\n",
       "      <th>4</th>\n",
       "      <td>301</td>\n",
       "      <td>6653</td>\n",
       "      <td>2011-05-31</td>\n",
       "    </tr>\n",
       "    <tr>\n",
       "      <th>...</th>\n",
       "      <td>...</td>\n",
       "      <td>...</td>\n",
       "      <td>...</td>\n",
       "    </tr>\n",
       "    <tr>\n",
       "      <th>19113</th>\n",
       "      <td>20773</td>\n",
       "      <td>16305</td>\n",
       "      <td>2014-03-19</td>\n",
       "    </tr>\n",
       "    <tr>\n",
       "      <th>19114</th>\n",
       "      <td>20774</td>\n",
       "      <td>16309</td>\n",
       "      <td>2013-07-29</td>\n",
       "    </tr>\n",
       "    <tr>\n",
       "      <th>19115</th>\n",
       "      <td>20775</td>\n",
       "      <td>16317</td>\n",
       "      <td>2014-03-12</td>\n",
       "    </tr>\n",
       "    <tr>\n",
       "      <th>19116</th>\n",
       "      <td>20776</td>\n",
       "      <td>16347</td>\n",
       "      <td>2014-01-14</td>\n",
       "    </tr>\n",
       "    <tr>\n",
       "      <th>19117</th>\n",
       "      <td>20777</td>\n",
       "      <td>16363</td>\n",
       "      <td>2013-10-16</td>\n",
       "    </tr>\n",
       "  </tbody>\n",
       "</table>\n",
       "<p>19118 rows × 3 columns</p>\n",
       "</div>"
      ],
      "text/plain": [
       "       BusinessEntityID  CreditCardID ModifiedDate\n",
       "0                   293         17038   2013-07-31\n",
       "1                   295         15369   2011-08-01\n",
       "2                   297          8010   2011-08-01\n",
       "3                   299          5316   2013-07-31\n",
       "4                   301          6653   2011-05-31\n",
       "...                 ...           ...          ...\n",
       "19113             20773         16305   2014-03-19\n",
       "19114             20774         16309   2013-07-29\n",
       "19115             20775         16317   2014-03-12\n",
       "19116             20776         16347   2014-01-14\n",
       "19117             20777         16363   2013-10-16\n",
       "\n",
       "[19118 rows x 3 columns]"
      ]
     },
     "execution_count": 23,
     "metadata": {},
     "output_type": "execute_result"
    }
   ],
   "source": [
    "df = pd.read_sql_query(f'select * FROM Sales.{src_tables[1][0]}', src_conn)\n",
    "df"
   ]
  }
 ],
 "metadata": {
  "kernelspec": {
   "display_name": "Python 3",
   "language": "python",
   "name": "python3"
  },
  "language_info": {
   "codemirror_mode": {
    "name": "ipython",
    "version": 3
   },
   "file_extension": ".py",
   "mimetype": "text/x-python",
   "name": "python",
   "nbconvert_exporter": "python",
   "pygments_lexer": "ipython3",
   "version": "3.8.0"
  }
 },
 "nbformat": 4,
 "nbformat_minor": 2
}

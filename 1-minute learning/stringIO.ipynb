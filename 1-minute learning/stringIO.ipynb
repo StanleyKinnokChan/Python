{
 "cells": [
  {
   "cell_type": "code",
   "execution_count": 17,
   "metadata": {},
   "outputs": [],
   "source": [
    "import pandas as pd\n",
    "from io import StringIO\n",
    "from csv import QUOTE_ALL\n"
   ]
  },
  {
   "cell_type": "code",
   "execution_count": 18,
   "metadata": {},
   "outputs": [
    {
     "data": {
      "text/plain": [
       "'\"cat id\";\"customer id\";\"sales\"\\r\\n\"1\";\"1\";\"100\"\\r\\n\"1\";\"1\";\"101\"\\r\\n\"1\";\"2\";\"102\"\\r\\n\"1\";\"2\";\"103\"\\r\\n\"2\";\"3\";\"104\"\\r\\n\"2\";\"3\";\"105\"\\r\\n\"2\";\"4\";\"106\"\\r\\n\"2\";\"4\";\"107\"\\r\\n\"3\";\"5\";\"108\"\\r\\n\"3\";\"5\";\"109\"\\r\\n\"3\";\"6\";\"110\"\\r\\n\"3\";\"6\";\"111\"\\r\\n'"
      ]
     },
     "execution_count": 18,
     "metadata": {},
     "output_type": "execute_result"
    }
   ],
   "source": [
    "# load the csv file as string\n",
    "df = pd.read_csv(r\"C:\\Users\\StanleyChan\\Downloads\\sales.csv\")\n",
    "buffer = StringIO()\n",
    "df.to_csv(buffer, index=False, quoting=QUOTE_ALL,sep=';')\n",
    "buffer.getvalue()"
   ]
  }
 ],
 "metadata": {
  "kernelspec": {
   "display_name": "Python 3",
   "language": "python",
   "name": "python3"
  },
  "language_info": {
   "codemirror_mode": {
    "name": "ipython",
    "version": 3
   },
   "file_extension": ".py",
   "mimetype": "text/x-python",
   "name": "python",
   "nbconvert_exporter": "python",
   "pygments_lexer": "ipython3",
   "version": "3.8.0"
  }
 },
 "nbformat": 4,
 "nbformat_minor": 2
}
